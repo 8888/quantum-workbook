{
 "cells": [
  {
   "cell_type": "code",
   "execution_count": null,
   "metadata": {},
   "outputs": [],
   "source": [
    "# https://learning.quantum.ibm.com/course/basics-of-quantum-information/quantum-circuits#introduction\n",
    "\n",
    "from qiskit import QuantumCircuit\n"
   ]
  }
 ],
 "metadata": {
  "language_info": {
   "name": "python"
  }
 },
 "nbformat": 4,
 "nbformat_minor": 2
}
